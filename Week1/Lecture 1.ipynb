{
 "cells": [
  {
   "cell_type": "markdown",
   "metadata": {},
   "source": [
    "# Overview\n",
    "\n",
    "Uses of computational biology: \n",
    "\n",
    "* Cellular processes\n",
    "* Organismal health or disease\n",
    "* Ecosystems\n",
    "* Evolution \n",
    "* Molecular/Macromolecular"
   ]
  },
  {
   "cell_type": "markdown",
   "metadata": {},
   "source": [
    "# Central Dogma\n",
    "\n",
    "* Dna: encoding with fasta files\n",
    "* RNA: Translation (codon tables)\n",
    "* Protien: post translational modification, cleavage, glycosylation"
   ]
  },
  {
   "cell_type": "markdown",
   "metadata": {},
   "source": [
    "# DNA Sequences\n",
    "\n",
    "* With a GC bias, you can count G+C/A+C+G+T to get a percent of total and use that to find runs\n",
    "* With TATATAAT blocks you can use regular expressions to find the sequences you want\n",
    "* With TG groups, you can use Dinucleotide Composition, which does TG/(AA+AT+AG...+TT) \n",
    "* With hairpin loop formations, you need to find complimentary nucleotides on each side start from the first U in the last run."
   ]
  },
  {
   "cell_type": "markdown",
   "metadata": {},
   "source": []
  },
  {
   "cell_type": "code",
   "execution_count": null,
   "metadata": {
    "collapsed": true
   },
   "outputs": [],
   "source": []
  }
 ],
 "metadata": {
  "kernelspec": {
   "display_name": "Python 3",
   "language": "python",
   "name": "python3"
  },
  "language_info": {
   "codemirror_mode": {
    "name": "ipython",
    "version": 3
   },
   "file_extension": ".py",
   "mimetype": "text/x-python",
   "name": "python",
   "nbconvert_exporter": "python",
   "pygments_lexer": "ipython3",
   "version": "3.6.3"
  }
 },
 "nbformat": 4,
 "nbformat_minor": 2
}
